{
 "cells": [
  {
   "cell_type": "code",
   "execution_count": 1,
   "id": "fcdf9ca8",
   "metadata": {},
   "outputs": [],
   "source": [
    "import pandas as pd\n",
    "import os\n",
    "import sys\n",
    "from datetime import datetime\n",
    "import numpy as np\n",
    "import json"
   ]
  },
  {
   "cell_type": "code",
   "execution_count": 2,
   "id": "2bee5b9d",
   "metadata": {},
   "outputs": [
    {
     "ename": "NameError",
     "evalue": "name '__file__' is not defined",
     "output_type": "error",
     "traceback": [
      "\u001b[0;31m---------------------------------------------------------------------------\u001b[0m",
      "\u001b[0;31mNameError\u001b[0m                                 Traceback (most recent call last)",
      "Cell \u001b[0;32mIn[2], line 1\u001b[0m\n\u001b[0;32m----> 1\u001b[0m root_dir \u001b[38;5;241m=\u001b[39m os\u001b[38;5;241m.\u001b[39mpath\u001b[38;5;241m.\u001b[39mabspath(os\u001b[38;5;241m.\u001b[39mpath\u001b[38;5;241m.\u001b[39mdirname(os\u001b[38;5;241m.\u001b[39mpath\u001b[38;5;241m.\u001b[39mabspath(\u001b[38;5;18m__file__\u001b[39m)))\n\u001b[1;32m      2\u001b[0m sys\u001b[38;5;241m.\u001b[39mpath\u001b[38;5;241m.\u001b[39mappend(root_dir)\n",
      "\u001b[0;31mNameError\u001b[0m: name '__file__' is not defined"
     ]
    }
   ],
   "source": [
    "root_dir = os.path.abspath(os.path.dirname(os.path.abspath(__file__)))\n",
    "sys.path.append(root_dir)"
   ]
  },
  {
   "cell_type": "code",
   "execution_count": 3,
   "id": "2dcf8564",
   "metadata": {},
   "outputs": [
    {
     "ename": "ModuleNotFoundError",
     "evalue": "No module named 'utilities'",
     "output_type": "error",
     "traceback": [
      "\u001b[0;31m---------------------------------------------------------------------------\u001b[0m",
      "\u001b[0;31mModuleNotFoundError\u001b[0m                       Traceback (most recent call last)",
      "Cell \u001b[0;32mIn[3], line 1\u001b[0m\n\u001b[0;32m----> 1\u001b[0m \u001b[38;5;28;01mfrom\u001b[39;00m \u001b[38;5;21;01mutilities\u001b[39;00m \u001b[38;5;28;01mimport\u001b[39;00m connect_SQL, connect_NoSQL\n",
      "\u001b[0;31mModuleNotFoundError\u001b[0m: No module named 'utilities'"
     ]
    }
   ],
   "source": [
    "from utilities import connect_SQL, connect_NoSQL"
   ]
  },
  {
   "cell_type": "code",
   "execution_count": 4,
   "id": "c4f1084b",
   "metadata": {},
   "outputs": [],
   "source": [
    "def retrieve_user_tweets_metadata(SQL_connection, user_identifier):\n",
    "\n",
    "    query = f'''SELECT t.*, u.name, u.screen_name,u.verified, \n",
    "            (SELECT COUNT(r.retweet_id) FROM retweets r WHERE r.tweet_id = t.tweet_id) AS retweet_count,\n",
    "            (SELECT COUNT(q.quoted_tweet_id) FROM quoted_tweets q WHERE q.tweet_id = t.tweet_id) AS quoted_count,\n",
    "            (SELECT COUNT(p.reply_tweet_id) FROM reply p WHERE p.tweet_id = t.tweet_id) AS reply_count\n",
    "            FROM tweets t\n",
    "            JOIN user_profile u ON t.user_id = u.user_id\n",
    "            WHERE\n",
    "            u.user_id='{user_identifier}'\n",
    "            '''\n",
    "    \n",
    "    print(query)\n",
    "\n",
    "    # Execute the query\n",
    "    user_tweets_metadata_df = pd.read_sql_query(query, con=SQL_connection)\n",
    "    return user_tweets_metadata_df\n",
    "    "
   ]
  },
  {
   "cell_type": "code",
   "execution_count": 5,
   "id": "25946404",
   "metadata": {},
   "outputs": [],
   "source": [
    "def retrieve_searched_tweets_data(NoSQL_connection, filtered_tweet_ids):\n",
    "    \n",
    "    search_query = {\n",
    "                \"query\": {\n",
    "                    \"bool\": {\n",
    "                    \"filter\": []\n",
    "                    }\n",
    "                },\n",
    "                \"_source\": [\n",
    "                    \"id_str\",\n",
    "                    \"text\",\n",
    "                    \"entities.hashtags.text\",\n",
    "                    \"possibly_sensitive\",\n",
    "                    \"entities.media.type\",\n",
    "                    \"entities.media.url\"\n",
    "                ],\n",
    "                \"size\": 10000\n",
    "                }\n",
    "    \n",
    "    if len(filtered_tweet_ids):\n",
    "        search_query[\"query\"][\"bool\"][\"filter\"].append({\n",
    "            \"terms\": {\n",
    "            \"id_str\": filtered_tweet_ids\n",
    "            }\n",
    "        })\n",
    "\n",
    "    search_query_json = json.dumps(search_query)\n",
    "    print(search_query_json)\n",
    "\n",
    "    response = NoSQL_connection.search(index=\"index__*\", body=search_query_json)\n",
    "    sorted_hits = response[\"hits\"][\"hits\"]\n",
    "    searched_tweets_data = pd.DataFrame.from_records(sorted_hits)\n",
    "    \n",
    "    if searched_tweets_data.empty:\n",
    "        return searched_tweets_data\n",
    "    \n",
    "    searched_tweets_data['possibly_sensitive'] = searched_tweets_data['_source'].apply(lambda x: x['possibly_sensitive'])\n",
    "    searched_tweets_data['id_str'] = searched_tweets_data['_source'].apply(lambda x: x['id_str'])\n",
    "    def extract_hashtags(row):\n",
    "        text_list = []\n",
    "        if 'entities' in row.keys():\n",
    "            if 'hashtags' in row['entities']:\n",
    "                hash_list = row['entities']['hashtags']\n",
    "                for i in hash_list:\n",
    "                    text_list.append(i['text'])\n",
    "                return text_list\n",
    "            else:\n",
    "                return np.nan\n",
    "        else:\n",
    "            return np.nan\n",
    "        \n",
    "    searched_tweets_data['hashtags'] = searched_tweets_data['_source'].apply(extract_hashtags)\n",
    "    searched_tweets_data['text'] = searched_tweets_data['_source'].apply(lambda x: x['text'])\n",
    "\n",
    "    def extract_media_type(row):\n",
    "        if 'entities' in row.keys():\n",
    "            if 'media' in row['entities']:\n",
    "                if 'type' in row['entities']['media'][0].keys():\n",
    "                    return row['entities']['media'][0]['type']\n",
    "                else:\n",
    "                    return np.nan\n",
    "            else:\n",
    "                return np.nan\n",
    "        else:\n",
    "            return np.nan\n",
    "    searched_tweets_data['media_type'] = searched_tweets_data['_source'].apply(extract_media_type)\n",
    "\n",
    "    def extract_media_url(row):\n",
    "        if 'entities' in row.keys():\n",
    "            if 'media' in row['entities']:\n",
    "                if 'url' in row['entities']['media'][0].keys():\n",
    "                    return row['entities']['media'][0]['url']\n",
    "                else:\n",
    "                    return np.nan\n",
    "            else:\n",
    "                return np.nan\n",
    "        else:\n",
    "            return np.nan\n",
    "        \n",
    "    \n",
    "    searched_tweets_data['media_url'] = searched_tweets_data['_source'].apply(extract_media_url)\n",
    "\n",
    "    desired_columns = ['id_str', 'text', 'hashtags', 'possibly_sensitive','media_type','media_url']\n",
    "    existing_desired_columns = [col for col in desired_columns if col in searched_tweets_data.columns]\n",
    "    searched_tweets_data = searched_tweets_data[existing_desired_columns]\n",
    "    \n",
    "    searched_tweets_data = searched_tweets_data.rename(columns={'id_str': 'tweet_id'})\n",
    "    return searched_tweets_data\n"
   ]
  },
  {
   "cell_type": "code",
   "execution_count": null,
   "id": "3e18606b",
   "metadata": {},
   "outputs": [],
   "source": [
    "def fetch_user_search_results(user_id):\n",
    "    SQL_connection = connect_SQL()\n",
    "    NoSQL_connection = connect_NoSQL()\n",
    "    filtered_tweet_ids = []\n",
    "    searched_tweets_metadata = retrieve_user_tweets_metadata(SQL_connection, user_id)\n",
    "    if searched_tweets_metadata.empty:\n",
    "        return searched_tweets_metadata, searched_tweets_metadata, searched_tweets_metadata, searched_tweets_metadata\n",
    "    filtered_tweet_ids = searched_tweets_metadata['tweet_id'].values.tolist()\n",
    "    filtered_tweet_ids = [str(x) for x in filtered_tweet_ids]\n",
    "\n",
    "    searched_tweets_data = retrieve_searched_tweets_data(NoSQL_connection, filtered_tweet_ids)\n",
    "    if searched_tweets_data.empty:\n",
    "        return searched_tweets_data, searched_tweets_data, searched_tweets_data, searched_tweets_data\n",
    "\n",
    "    results_df = pd.merge(searched_tweets_data, searched_tweets_metadata, on='tweet_id', how='inner') \n",
    "    results_df = results_df.sort_values(by=['retweet_count'], ascending=False)\n",
    "    results_df_org = results_df[results_df['tweet_flag'] == 'original_tweet']\n",
    "    results_df_quoted = results_df[results_df['tweet_flag'] == 'quoted_tweet']\n",
    "    results_df_retweet = results_df[results_df['tweet_flag'] == 'retweeted_tweet']\n",
    "    results_df_reply = results_df[results_df['tweet_flag'] == 'reply_tweet']\n",
    "\n",
    "    return results_df_org, results_df_quoted, results_df_retweet, results_df_reply"
   ]
  }
 ],
 "metadata": {
  "kernelspec": {
   "display_name": "Python 3 (ipykernel)",
   "language": "python",
   "name": "python3"
  },
  "language_info": {
   "codemirror_mode": {
    "name": "ipython",
    "version": 3
   },
   "file_extension": ".py",
   "mimetype": "text/x-python",
   "name": "python",
   "nbconvert_exporter": "python",
   "pygments_lexer": "ipython3",
   "version": "3.11.5"
  }
 },
 "nbformat": 4,
 "nbformat_minor": 5
}
